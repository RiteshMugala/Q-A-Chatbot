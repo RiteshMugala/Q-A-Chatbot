{
 "cells": [
  {
   "cell_type": "code",
   "execution_count": 1,
   "id": "0d99d4ae",
   "metadata": {},
   "outputs": [
    {
     "name": "stderr",
     "output_type": "stream",
     "text": [
      "[nltk_data] Downloading package punkt to\n",
      "[nltk_data]     C:\\Users\\Jatin\\AppData\\Roaming\\nltk_data...\n",
      "[nltk_data]   Package punkt is already up-to-date!\n"
     ]
    }
   ],
   "source": [
    "import numpy as np\n",
    "import random\n",
    "import json\n",
    "import nltk\n",
    "nltk.download('punkt')\n",
    "import torch\n",
    "import torch.nn as nn\n",
    "from torch.utils.data import Dataset, DataLoader\n",
    "\n",
    "from nltk_utils import bag_of_words, tokenize, stem\n",
    "from model import NeuralNet"
   ]
  },
  {
   "cell_type": "code",
   "execution_count": 2,
   "id": "3d8e70a2",
   "metadata": {},
   "outputs": [
    {
     "data": {
      "text/plain": [
       "'!pip install torch'"
      ]
     },
     "execution_count": 2,
     "metadata": {},
     "output_type": "execute_result"
    }
   ],
   "source": [
    "\"\"\"!pip install torch\"\"\""
   ]
  },
  {
   "cell_type": "code",
   "execution_count": 3,
   "id": "9e0c2c44",
   "metadata": {},
   "outputs": [],
   "source": [
    "with open('intents.json', 'r') as f:\n",
    "    intents = json.load(f)\n",
    "\n",
    "all_words = []\n",
    "tags = []\n",
    "xy = []"
   ]
  },
  {
   "cell_type": "code",
   "execution_count": 4,
   "id": "771068c4",
   "metadata": {},
   "outputs": [
    {
     "name": "stdout",
     "output_type": "stream",
     "text": [
      "280 patterns\n",
      "47 tags: ['admission_info', 'funny', 'goodbye', 'greeting', 'ngit_accreditation', 'ngit_advisors', 'ngit_alumni', 'ngit_career', 'ngit_community', 'ngit_contests', 'ngit_courses', 'ngit_cultural', 'ngit_discipline', 'ngit_environment', 'ngit_events', 'ngit_extracurricular', 'ngit_facilities', 'ngit_finishing_school', 'ngit_health', 'ngit_hostel', 'ngit_info', 'ngit_infrastructure', 'ngit_innovation', 'ngit_international', 'ngit_internships', 'ngit_languages', 'ngit_learning', 'ngit_library', 'ngit_location', 'ngit_mental_health', 'ngit_mentorship', 'ngit_online', 'ngit_parent', 'ngit_parents_meeting', 'ngit_placement', 'ngit_project_school', 'ngit_research', 'ngit_scholarships', 'ngit_seats', 'ngit_social', 'ngit_sports', 'ngit_student_feedback', 'ngit_student_life', 'ngit_technology', 'ngit_tuition', 'ngit_vision', 'thanks']\n",
      "291 unique stemmed words: ['&', \"'\", \"'d\", \"'m\", \"'s\", '(', ')', ',', 'a', 'about', 'abroad', 'academ', 'access', 'accommod', 'accredit', 'activ', 'address', 'admiss', 'admit', 'advanc', 'advisor', 'advisori', 'affili', 'ai', 'aid', 'alloc', 'alumni', 'amen', 'among', 'an', 'and', 'ani', 'anyon', 'appli', 'approach', 'are', 'as', 'aspect', 'assist', 'associ', 'at', 'avail', 'batch', 'break', 'by', 'bye', 'campu', 'can', 'capac', 'career', 'club', 'code', 'collabor', 'colleg', 'commun', 'compani', 'competit', 'comput', 'conduct', 'confirm', 'connect', 'contest', 'cost', 'could', 'counsel', 'count', 'cours', 'criteria', 'cse', 'cultur', 'curiou', 'current', 'curriculum', 'day', 'degre', 'describ', 'detail', 'develop', 'differ', 'disciplin', 'distribut', 'do', 'doe', 'down', 'each', 'educ', 'elabor', 'elig', 'employ', 'engag', 'engin', 'enhanc', 'enrol', 'entranc', 'environ', 'environment', 'event', 'exam', 'expens', 'experi', 'explain', 'explor', 'exposur', 'extracurricular', 'facil', 'famou', 'fee', 'feedback', 'fest', 'festiv', 'field', 'financi', 'finish', 'focu', 'for', 'from', 'function', 'funni', 'get', 'give', 'goal', 'gogt', 'good', 'goodby', 'green', 'guid', 'ha', 'have', 'health', 'healthcar', 'hello', 'help', 'hey', 'hi', 'hostel', 'how', 'i', 'if', 'impact', 'in', 'industri', 'inform', 'infrastructur', 'initi', 'innov', 'insight', 'institut', 'interest', 'intern', 'internship', 'into', 'invest', 'involv', 'is', 'it', 'join', 'joke', 'kind', 'know', 'languag', 'later', 'learn', 'librari', 'life', 'like', 'list', 'lm', 'locat', 'lot', 'lowdown', 'manag', 'mani', 'me', 'media', 'medic', 'meet', 'mental', 'mentorship', 'merit-bas', 'method', 'mission', 'ml', 'more', 'need-bas', 'neil', 'network', 'ngit', 'number', 'of', 'offer', 'on', 'onlin', 'opinion', 'opportun', 'option', 'or', 'outcom', 'overal', 'overview', 'parent', 'parent-teach', 'part', 'particip', 'pattern', 'per', 'physic', 'placement', 'platform', 'pleas', 'practic', 'procedur', 'process', 'program', 'project', 'project-bas', 'provid', 'pursu', 'rate', 'recruit', 'regard', 'requir', 'research', 'residenti', 'resourc', 'respons', 'role', 'rule', 'scenario', 'scholarship', 'school', 'scienc', 'seat', 'secur', 'see', 'servic', 'setup', 'share', 'signific', 'skill', 'social', 'some', 'someth', 'specif', 'specifi', 'sport', 'statist', 'statu', 'step', 'stori', 'stream', 'structur', 'student', 'student-l', 'studi', 'success', 'support', 'sustain', 'system', 'technolog', 'tell', 'term', 'tessel', 'thank', 'that', 'the', 'their', 'there', 'through', 'to', 'tool', 'total', 'train', 'tuition', 'undertaken', 'univers', 'upcom', 'use', 'variou', 'verifi', 'virtual', 'vision', 'visit', 'well', 'well-b', 'what', 'where', 'whether', 'which', 'who', 'with', 'you']\n",
      "291 47\n",
      "Epoch [100/1000], Loss: 0.5353\n",
      "Epoch [200/1000], Loss: 0.0161\n",
      "Epoch [300/1000], Loss: 0.0082\n",
      "Epoch [400/1000], Loss: 0.0002\n",
      "Epoch [500/1000], Loss: 0.0001\n",
      "Epoch [600/1000], Loss: 0.0000\n",
      "Epoch [700/1000], Loss: 0.0000\n",
      "Epoch [800/1000], Loss: 0.0000\n",
      "Epoch [900/1000], Loss: 0.0000\n",
      "Epoch [1000/1000], Loss: 0.0000\n",
      "final loss: 0.0000\n",
      "training complete. file saved to data.pth\n"
     ]
    }
   ],
   "source": [
    "for intent in intents['intents']:\n",
    "    tag = intent['tag']\n",
    "    # add to tag list\n",
    "    tags.append(tag)\n",
    "    for pattern in intent['patterns']:\n",
    "        # tokenize each word in the sentence\n",
    "        w = tokenize(pattern)\n",
    "        # add to our words list\n",
    "        all_words.extend(w)\n",
    "        # add to xy pair\n",
    "        xy.append((w, tag))\n",
    "\n",
    "# stem and lower each word\n",
    "ignore_words = ['?', '.', '!']\n",
    "all_words = [stem(w) for w in all_words if w not in ignore_words]\n",
    "# remove duplicates and sort\n",
    "all_words = sorted(set(all_words))\n",
    "tags = sorted(set(tags))\n",
    "\n",
    "print(len(xy), \"patterns\")\n",
    "print(len(tags), \"tags:\", tags)\n",
    "print(len(all_words), \"unique stemmed words:\", all_words)\n",
    "\n",
    "# create training data\n",
    "X_train = []\n",
    "y_train = []\n",
    "for (pattern_sentence, tag) in xy:\n",
    "    # X: bag of words for each pattern_sentence\n",
    "    bag = bag_of_words(pattern_sentence, all_words)\n",
    "    X_train.append(bag)\n",
    "    # y: PyTorch CrossEntropyLoss needs only class labels, not one-hot\n",
    "    label = tags.index(tag)\n",
    "    y_train.append(label)\n",
    "\n",
    "X_train = np.array(X_train)\n",
    "y_train = np.array(y_train)\n",
    "\n",
    "# Hyper-parameters \n",
    "num_epochs = 1000\n",
    "batch_size = 8\n",
    "learning_rate = 0.001\n",
    "input_size = len(X_train[0])\n",
    "hidden_size = 8\n",
    "output_size = len(tags)\n",
    "print(input_size, output_size)\n",
    "\n",
    "class ChatDataset(Dataset):\n",
    "\n",
    "    def __init__(self):\n",
    "        self.n_samples = len(X_train)\n",
    "        self.x_data = X_train\n",
    "        self.y_data = y_train\n",
    "\n",
    "    # support indexing such that dataset[i] can be used to get i-th sample\n",
    "    def __getitem__(self, index):\n",
    "        return self.x_data[index], self.y_data[index]\n",
    "\n",
    "    # we can call len(dataset) to return the size\n",
    "    def __len__(self):\n",
    "        return self.n_samples\n",
    "\n",
    "dataset = ChatDataset()\n",
    "train_loader = DataLoader(dataset=dataset,\n",
    "                          batch_size=batch_size,\n",
    "                          shuffle=True,\n",
    "                          num_workers=0)\n",
    "\n",
    "device = torch.device('cuda' if torch.cuda.is_available() else 'cpu')\n",
    "\n",
    "model = NeuralNet(input_size, hidden_size, output_size).to(device)\n",
    "\n",
    "# Loss and optimizer\n",
    "criterion = nn.CrossEntropyLoss()\n",
    "optimizer = torch.optim.Adam(model.parameters(), lr=learning_rate)\n",
    "\n",
    "# Train the model\n",
    "for epoch in range(num_epochs):\n",
    "    for (words, labels) in train_loader:\n",
    "        words = words.to(device)\n",
    "        labels = labels.to(dtype=torch.long).to(device)\n",
    "        \n",
    "        # Forward pass\n",
    "        outputs = model(words)\n",
    "        # if y would be one-hot, we must apply\n",
    "        # labels = torch.max(labels, 1)[1]\n",
    "        loss = criterion(outputs, labels)\n",
    "        \n",
    "        # Backward and optimize\n",
    "        optimizer.zero_grad()\n",
    "        loss.backward()\n",
    "        optimizer.step()\n",
    "        \n",
    "    if (epoch+1) % 100 == 0:\n",
    "        print (f'Epoch [{epoch+1}/{num_epochs}], Loss: {loss.item():.4f}')\n",
    "\n",
    "\n",
    "print(f'final loss: {loss.item():.4f}')\n",
    "\n",
    "data = {\n",
    "\"model_state\": model.state_dict(),\n",
    "\"input_size\": input_size,\n",
    "\"hidden_size\": hidden_size,\n",
    "\"output_size\": output_size,\n",
    "\"all_words\": all_words,\n",
    "\"tags\": tags\n",
    "}\n",
    "\n",
    "FILE = \"data.pth\"\n",
    "torch.save(data, FILE)\n",
    "\n",
    "print(f'training complete. file saved to {FILE}')"
   ]
  },
  {
   "cell_type": "code",
   "execution_count": null,
   "id": "09184637",
   "metadata": {},
   "outputs": [],
   "source": []
  }
 ],
 "metadata": {
  "kernelspec": {
   "display_name": "Python 3 (ipykernel)",
   "language": "python",
   "name": "python3"
  },
  "language_info": {
   "codemirror_mode": {
    "name": "ipython",
    "version": 3
   },
   "file_extension": ".py",
   "mimetype": "text/x-python",
   "name": "python",
   "nbconvert_exporter": "python",
   "pygments_lexer": "ipython3",
   "version": "3.11.3"
  }
 },
 "nbformat": 4,
 "nbformat_minor": 5
}
