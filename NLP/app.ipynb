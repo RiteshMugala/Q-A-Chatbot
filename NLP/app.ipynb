{
 "cells": [
  {
   "cell_type": "code",
   "execution_count": null,
   "id": "87172567",
   "metadata": {},
   "outputs": [
    {
     "name": "stdout",
     "output_type": "stream",
     "text": [
      " * Serving Flask app '__main__'\n",
      " * Debug mode: off\n"
     ]
    },
    {
     "name": "stderr",
     "output_type": "stream",
     "text": [
      "WARNING: This is a development server. Do not use it in a production deployment. Use a production WSGI server instead.\n",
      " * Running on http://127.0.0.1:5000\n",
      "Press CTRL+C to quit\n",
      "127.0.0.1 - - [26/Apr/2024 20:12:39] \"GET / HTTP/1.1\" 200 -\n",
      "127.0.0.1 - - [26/Apr/2024 20:12:39] \"GET /static/style.css HTTP/1.1\" 200 -\n",
      "127.0.0.1 - - [26/Apr/2024 20:12:39] \"GET /static/script.js HTTP/1.1\" 200 -\n",
      "127.0.0.1 - - [26/Apr/2024 20:12:39] \"GET /favicon.ico HTTP/1.1\" 404 -\n",
      "127.0.0.1 - - [26/Apr/2024 20:12:43] \"POST /chat HTTP/1.1\" 200 -\n",
      "127.0.0.1 - - [26/Apr/2024 20:12:49] \"POST /chat HTTP/1.1\" 200 -\n",
      "127.0.0.1 - - [26/Apr/2024 20:15:58] \"POST /chat HTTP/1.1\" 200 -\n"
     ]
    }
   ],
   "source": [
    "from flask import Flask, render_template, request, jsonify, url_for\n",
    "import random\n",
    "import json\n",
    "import torch\n",
    "from model import NeuralNet\n",
    "from nltk_utils import bag_of_words, tokenize\n",
    "\n",
    "app = Flask(__name__)\n",
    "\n",
    "device = torch.device('cuda' if torch.cuda.is_available() else 'cpu')\n",
    "\n",
    "with open('intents.json', 'r') as json_data:\n",
    "    intents = json.load(json_data)\n",
    "\n",
    "FILE = \"data.pth\"\n",
    "data = torch.load(FILE)\n",
    "\n",
    "input_size = data[\"input_size\"]\n",
    "hidden_size = data[\"hidden_size\"]\n",
    "output_size = data[\"output_size\"]\n",
    "all_words = data['all_words']\n",
    "tags = data['tags']\n",
    "model_state = data[\"model_state\"]\n",
    "\n",
    "model = NeuralNet(input_size, hidden_size, output_size).to(device)\n",
    "model.load_state_dict(model_state)\n",
    "model.eval()\n",
    "\n",
    "bot_name = \"Sam\"\n",
    "\"\"\"print(\"Let's chat! (type 'quit' to exit)\")\"\"\"\n",
    "\n",
    "@app.route(\"/\")\n",
    "def home():\n",
    "    return render_template(\"index.html\")\n",
    "\n",
    "@app.route(\"/chat\", methods=[\"POST\"])\n",
    "def chat():\n",
    "    user_message = request.form[\"user_message\"]\n",
    "    if user_message.lower() == \"quit\":\n",
    "        #return render_template(\"index.html\", response=\"You have quit the chat.\")\n",
    "        return \"You have to quit the chat\"\n",
    "    sentence = tokenize(user_message)\n",
    "    X = bag_of_words(sentence, all_words)\n",
    "    X = X.reshape(1, X.shape[0])\n",
    "    X = torch.from_numpy(X).to(device)\n",
    "\n",
    "    output = model(X)\n",
    "    _, predicted = torch.max(output, dim=1)\n",
    "\n",
    "    tag = tags[predicted.item()]\n",
    "\n",
    "    probs = torch.softmax(output, dim=1)\n",
    "    prob = probs[0][predicted.item()]\n",
    "\n",
    "    if prob.item() > 0.75:\n",
    "        for intent in intents['intents']:\n",
    "            if tag == intent[\"tag\"]:\n",
    "                response = random.choice(intent['responses'])\n",
    "                #return jsonify({\"response\": f\"{bot_name}: {response}\"})\n",
    "                return jsonify({\"response\": f\"{response}\"})\n",
    "                \n",
    "               \n",
    "    else:\n",
    "        response = \"I do not understand...\"\n",
    "        #return jsonify({\"response\": f\"{bot_name}: {response}\"})\n",
    "        return jsonify({\"response\": f\"{response}\"})\n",
    "    #return render_template(\"index.html\", response=f\"{bot_name}: {response}\")\n",
    "\n",
    "if __name__ == \"__main__\":\n",
    "    app.run(debug=False)\n"
   ]
  },
  {
   "cell_type": "code",
   "execution_count": null,
   "id": "6b928e6c",
   "metadata": {},
   "outputs": [],
   "source": []
  },
  {
   "cell_type": "code",
   "execution_count": null,
   "id": "121c5fc3",
   "metadata": {},
   "outputs": [],
   "source": []
  }
 ],
 "metadata": {
  "kernelspec": {
   "display_name": "Python 3 (ipykernel)",
   "language": "python",
   "name": "python3"
  },
  "language_info": {
   "codemirror_mode": {
    "name": "ipython",
    "version": 3
   },
   "file_extension": ".py",
   "mimetype": "text/x-python",
   "name": "python",
   "nbconvert_exporter": "python",
   "pygments_lexer": "ipython3",
   "version": "3.11.3"
  }
 },
 "nbformat": 4,
 "nbformat_minor": 5
}
